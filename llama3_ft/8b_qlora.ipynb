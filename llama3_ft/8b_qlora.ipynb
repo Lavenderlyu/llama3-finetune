{
 "cells": [
  {
   "cell_type": "code",
   "execution_count": 9,
   "metadata": {},
   "outputs": [],
   "source": [
    "import torch, os\n",
    "from datasets import load_dataset\n",
    "from peft import LoraConfig, prepare_model_for_kbit_training\n",
    "from transformers import (\n",
    "    AutoModelForCausalLM,\n",
    "    AutoTokenizer,\n",
    "    BitsAndBytesConfig,\n",
    "    TrainingArguments,\n",
    ")\n",
    "from trl import SFTTrainer"
   ]
  },
  {
   "cell_type": "code",
   "execution_count": 10,
   "metadata": {},
   "outputs": [
    {
     "name": "stdout",
     "output_type": "stream",
     "text": [
      "Requirement already satisfied: flash_attn in /home/xylv/anaconda3/envs/langchain_flash_attn/lib/python3.11/site-packages (2.5.9.post1)\n",
      "Requirement already satisfied: torch in /home/xylv/anaconda3/envs/langchain_flash_attn/lib/python3.11/site-packages (from flash_attn) (2.2.2)\n",
      "Requirement already satisfied: einops in /home/xylv/anaconda3/envs/langchain_flash_attn/lib/python3.11/site-packages (from flash_attn) (0.7.0)\n",
      "Requirement already satisfied: filelock in /home/xylv/anaconda3/envs/langchain_flash_attn/lib/python3.11/site-packages (from torch->flash_attn) (3.13.4)\n",
      "Requirement already satisfied: typing-extensions>=4.8.0 in /home/xylv/anaconda3/envs/langchain_flash_attn/lib/python3.11/site-packages (from torch->flash_attn) (4.11.0)\n",
      "Requirement already satisfied: sympy in /home/xylv/anaconda3/envs/langchain_flash_attn/lib/python3.11/site-packages (from torch->flash_attn) (1.12)\n",
      "Requirement already satisfied: networkx in /home/xylv/anaconda3/envs/langchain_flash_attn/lib/python3.11/site-packages (from torch->flash_attn) (3.3)\n",
      "Requirement already satisfied: jinja2 in /home/xylv/anaconda3/envs/langchain_flash_attn/lib/python3.11/site-packages (from torch->flash_attn) (3.1.3)\n",
      "Requirement already satisfied: fsspec in /home/xylv/anaconda3/envs/langchain_flash_attn/lib/python3.11/site-packages (from torch->flash_attn) (2024.2.0)\n",
      "Requirement already satisfied: nvidia-cuda-nvrtc-cu12==12.1.105 in /home/xylv/anaconda3/envs/langchain_flash_attn/lib/python3.11/site-packages (from torch->flash_attn) (12.1.105)\n",
      "Requirement already satisfied: nvidia-cuda-runtime-cu12==12.1.105 in /home/xylv/anaconda3/envs/langchain_flash_attn/lib/python3.11/site-packages (from torch->flash_attn) (12.1.105)\n",
      "Requirement already satisfied: nvidia-cuda-cupti-cu12==12.1.105 in /home/xylv/anaconda3/envs/langchain_flash_attn/lib/python3.11/site-packages (from torch->flash_attn) (12.1.105)\n",
      "Requirement already satisfied: nvidia-cudnn-cu12==8.9.2.26 in /home/xylv/anaconda3/envs/langchain_flash_attn/lib/python3.11/site-packages (from torch->flash_attn) (8.9.2.26)\n",
      "Requirement already satisfied: nvidia-cublas-cu12==12.1.3.1 in /home/xylv/anaconda3/envs/langchain_flash_attn/lib/python3.11/site-packages (from torch->flash_attn) (12.1.3.1)\n",
      "Requirement already satisfied: nvidia-cufft-cu12==11.0.2.54 in /home/xylv/anaconda3/envs/langchain_flash_attn/lib/python3.11/site-packages (from torch->flash_attn) (11.0.2.54)\n",
      "Requirement already satisfied: nvidia-curand-cu12==10.3.2.106 in /home/xylv/anaconda3/envs/langchain_flash_attn/lib/python3.11/site-packages (from torch->flash_attn) (10.3.2.106)\n",
      "Requirement already satisfied: nvidia-cusolver-cu12==11.4.5.107 in /home/xylv/anaconda3/envs/langchain_flash_attn/lib/python3.11/site-packages (from torch->flash_attn) (11.4.5.107)\n",
      "Requirement already satisfied: nvidia-cusparse-cu12==12.1.0.106 in /home/xylv/anaconda3/envs/langchain_flash_attn/lib/python3.11/site-packages (from torch->flash_attn) (12.1.0.106)\n",
      "Requirement already satisfied: nvidia-nccl-cu12==2.19.3 in /home/xylv/anaconda3/envs/langchain_flash_attn/lib/python3.11/site-packages (from torch->flash_attn) (2.19.3)\n",
      "Requirement already satisfied: nvidia-nvtx-cu12==12.1.105 in /home/xylv/anaconda3/envs/langchain_flash_attn/lib/python3.11/site-packages (from torch->flash_attn) (12.1.105)\n",
      "Requirement already satisfied: triton==2.2.0 in /home/xylv/anaconda3/envs/langchain_flash_attn/lib/python3.11/site-packages (from torch->flash_attn) (2.2.0)\n",
      "Requirement already satisfied: nvidia-nvjitlink-cu12 in /home/xylv/anaconda3/envs/langchain_flash_attn/lib/python3.11/site-packages (from nvidia-cusolver-cu12==11.4.5.107->torch->flash_attn) (12.4.127)\n",
      "Requirement already satisfied: MarkupSafe>=2.0 in /home/xylv/anaconda3/envs/langchain_flash_attn/lib/python3.11/site-packages (from jinja2->torch->flash_attn) (2.1.5)\n",
      "Requirement already satisfied: mpmath>=0.19 in /home/xylv/anaconda3/envs/langchain_flash_attn/lib/python3.11/site-packages (from sympy->torch->flash_attn) (1.3.0)\n"
     ]
    }
   ],
   "source": [
    "#use bf16 and FlashAttention if supported\n",
    "if torch.cuda.is_bf16_supported():\n",
    "  os.system('pip install flash_attn')\n",
    "  compute_dtype = torch.bfloat16\n",
    "  attn_implementation = 'flash_attention_2'\n",
    "else:\n",
    "  compute_dtype = torch.float16\n",
    "  attn_implementation = 'sdpa'"
   ]
  },
  {
   "cell_type": "code",
   "execution_count": 11,
   "metadata": {},
   "outputs": [],
   "source": [
    "bnb_config = BitsAndBytesConfig(\n",
    "        load_in_4bit=True,\n",
    "        bnb_4bit_quant_type=\"nf4\",\n",
    "        bnb_4bit_compute_dtype=compute_dtype,\n",
    "        bnb_4bit_use_double_quant=True,\n",
    ")"
   ]
  },
  {
   "cell_type": "code",
   "execution_count": 14,
   "metadata": {},
   "outputs": [
    {
     "ename": "ImportError",
     "evalue": "Using `bitsandbytes` 8-bit quantization requires Accelerate: `pip install accelerate` and the latest version of bitsandbytes: `pip install -i https://pypi.org/simple/ bitsandbytes`",
     "output_type": "error",
     "traceback": [
      "\u001b[0;31m---------------------------------------------------------------------------\u001b[0m",
      "\u001b[0;31mImportError\u001b[0m                               Traceback (most recent call last)",
      "Cell \u001b[0;32mIn[14], line 2\u001b[0m\n\u001b[1;32m      1\u001b[0m model_name\u001b[38;5;241m=\u001b[39m\u001b[38;5;124m\"\u001b[39m\u001b[38;5;124m/home/xylv/.cache/modelscope/hub/LLM-Research/Meta-Llama-3-8B\u001b[39m\u001b[38;5;124m\"\u001b[39m\n\u001b[0;32m----> 2\u001b[0m model \u001b[38;5;241m=\u001b[39m \u001b[43mAutoModelForCausalLM\u001b[49m\u001b[38;5;241;43m.\u001b[39;49m\u001b[43mfrom_pretrained\u001b[49m\u001b[43m(\u001b[49m\u001b[43mmodel_name\u001b[49m\u001b[43m,\u001b[49m\u001b[43m \u001b[49m\u001b[43mquantization_config\u001b[49m\u001b[38;5;241;43m=\u001b[39;49m\u001b[43mbnb_config\u001b[49m\u001b[43m,\u001b[49m\u001b[43m \u001b[49m\u001b[43mdevice_map\u001b[49m\u001b[38;5;241;43m=\u001b[39;49m\u001b[43m{\u001b[49m\u001b[38;5;124;43m\"\u001b[39;49m\u001b[38;5;124;43m\"\u001b[39;49m\u001b[43m:\u001b[49m\u001b[43m \u001b[49m\u001b[38;5;241;43m0\u001b[39;49m\u001b[43m}\u001b[49m\u001b[43m,\u001b[49m\u001b[43m \u001b[49m\u001b[43mattn_implementation\u001b[49m\u001b[38;5;241;43m=\u001b[39;49m\u001b[43mattn_implementation\u001b[49m\n\u001b[1;32m      3\u001b[0m \u001b[43m)\u001b[49m\n",
      "File \u001b[0;32m~/anaconda3/envs/langchain_flash_attn/lib/python3.11/site-packages/transformers/models/auto/auto_factory.py:563\u001b[0m, in \u001b[0;36m_BaseAutoModelClass.from_pretrained\u001b[0;34m(cls, pretrained_model_name_or_path, *model_args, **kwargs)\u001b[0m\n\u001b[1;32m    561\u001b[0m \u001b[38;5;28;01melif\u001b[39;00m \u001b[38;5;28mtype\u001b[39m(config) \u001b[38;5;129;01min\u001b[39;00m \u001b[38;5;28mcls\u001b[39m\u001b[38;5;241m.\u001b[39m_model_mapping\u001b[38;5;241m.\u001b[39mkeys():\n\u001b[1;32m    562\u001b[0m     model_class \u001b[38;5;241m=\u001b[39m _get_model_class(config, \u001b[38;5;28mcls\u001b[39m\u001b[38;5;241m.\u001b[39m_model_mapping)\n\u001b[0;32m--> 563\u001b[0m     \u001b[38;5;28;01mreturn\u001b[39;00m \u001b[43mmodel_class\u001b[49m\u001b[38;5;241;43m.\u001b[39;49m\u001b[43mfrom_pretrained\u001b[49m\u001b[43m(\u001b[49m\n\u001b[1;32m    564\u001b[0m \u001b[43m        \u001b[49m\u001b[43mpretrained_model_name_or_path\u001b[49m\u001b[43m,\u001b[49m\u001b[43m \u001b[49m\u001b[38;5;241;43m*\u001b[39;49m\u001b[43mmodel_args\u001b[49m\u001b[43m,\u001b[49m\u001b[43m \u001b[49m\u001b[43mconfig\u001b[49m\u001b[38;5;241;43m=\u001b[39;49m\u001b[43mconfig\u001b[49m\u001b[43m,\u001b[49m\u001b[43m \u001b[49m\u001b[38;5;241;43m*\u001b[39;49m\u001b[38;5;241;43m*\u001b[39;49m\u001b[43mhub_kwargs\u001b[49m\u001b[43m,\u001b[49m\u001b[43m \u001b[49m\u001b[38;5;241;43m*\u001b[39;49m\u001b[38;5;241;43m*\u001b[39;49m\u001b[43mkwargs\u001b[49m\n\u001b[1;32m    565\u001b[0m \u001b[43m    \u001b[49m\u001b[43m)\u001b[49m\n\u001b[1;32m    566\u001b[0m \u001b[38;5;28;01mraise\u001b[39;00m \u001b[38;5;167;01mValueError\u001b[39;00m(\n\u001b[1;32m    567\u001b[0m     \u001b[38;5;124mf\u001b[39m\u001b[38;5;124m\"\u001b[39m\u001b[38;5;124mUnrecognized configuration class \u001b[39m\u001b[38;5;132;01m{\u001b[39;00mconfig\u001b[38;5;241m.\u001b[39m\u001b[38;5;18m__class__\u001b[39m\u001b[38;5;132;01m}\u001b[39;00m\u001b[38;5;124m for this kind of AutoModel: \u001b[39m\u001b[38;5;132;01m{\u001b[39;00m\u001b[38;5;28mcls\u001b[39m\u001b[38;5;241m.\u001b[39m\u001b[38;5;18m__name__\u001b[39m\u001b[38;5;132;01m}\u001b[39;00m\u001b[38;5;124m.\u001b[39m\u001b[38;5;130;01m\\n\u001b[39;00m\u001b[38;5;124m\"\u001b[39m\n\u001b[1;32m    568\u001b[0m     \u001b[38;5;124mf\u001b[39m\u001b[38;5;124m\"\u001b[39m\u001b[38;5;124mModel type should be one of \u001b[39m\u001b[38;5;132;01m{\u001b[39;00m\u001b[38;5;124m'\u001b[39m\u001b[38;5;124m, \u001b[39m\u001b[38;5;124m'\u001b[39m\u001b[38;5;241m.\u001b[39mjoin(c\u001b[38;5;241m.\u001b[39m\u001b[38;5;18m__name__\u001b[39m\u001b[38;5;250m \u001b[39m\u001b[38;5;28;01mfor\u001b[39;00m\u001b[38;5;250m \u001b[39mc\u001b[38;5;250m \u001b[39m\u001b[38;5;129;01min\u001b[39;00m\u001b[38;5;250m \u001b[39m\u001b[38;5;28mcls\u001b[39m\u001b[38;5;241m.\u001b[39m_model_mapping\u001b[38;5;241m.\u001b[39mkeys())\u001b[38;5;132;01m}\u001b[39;00m\u001b[38;5;124m.\u001b[39m\u001b[38;5;124m\"\u001b[39m\n\u001b[1;32m    569\u001b[0m )\n",
      "File \u001b[0;32m~/anaconda3/envs/langchain_flash_attn/lib/python3.11/site-packages/transformers/modeling_utils.py:3165\u001b[0m, in \u001b[0;36mPreTrainedModel.from_pretrained\u001b[0;34m(cls, pretrained_model_name_or_path, config, cache_dir, ignore_mismatched_sizes, force_download, local_files_only, token, revision, use_safetensors, *model_args, **kwargs)\u001b[0m\n\u001b[1;32m   3162\u001b[0m     hf_quantizer \u001b[38;5;241m=\u001b[39m \u001b[38;5;28;01mNone\u001b[39;00m\n\u001b[1;32m   3164\u001b[0m \u001b[38;5;28;01mif\u001b[39;00m hf_quantizer \u001b[38;5;129;01mis\u001b[39;00m \u001b[38;5;129;01mnot\u001b[39;00m \u001b[38;5;28;01mNone\u001b[39;00m:\n\u001b[0;32m-> 3165\u001b[0m     \u001b[43mhf_quantizer\u001b[49m\u001b[38;5;241;43m.\u001b[39;49m\u001b[43mvalidate_environment\u001b[49m\u001b[43m(\u001b[49m\n\u001b[1;32m   3166\u001b[0m \u001b[43m        \u001b[49m\u001b[43mtorch_dtype\u001b[49m\u001b[38;5;241;43m=\u001b[39;49m\u001b[43mtorch_dtype\u001b[49m\u001b[43m,\u001b[49m\u001b[43m \u001b[49m\u001b[43mfrom_tf\u001b[49m\u001b[38;5;241;43m=\u001b[39;49m\u001b[43mfrom_tf\u001b[49m\u001b[43m,\u001b[49m\u001b[43m \u001b[49m\u001b[43mfrom_flax\u001b[49m\u001b[38;5;241;43m=\u001b[39;49m\u001b[43mfrom_flax\u001b[49m\u001b[43m,\u001b[49m\u001b[43m \u001b[49m\u001b[43mdevice_map\u001b[49m\u001b[38;5;241;43m=\u001b[39;49m\u001b[43mdevice_map\u001b[49m\n\u001b[1;32m   3167\u001b[0m \u001b[43m    \u001b[49m\u001b[43m)\u001b[49m\n\u001b[1;32m   3168\u001b[0m     torch_dtype \u001b[38;5;241m=\u001b[39m hf_quantizer\u001b[38;5;241m.\u001b[39mupdate_torch_dtype(torch_dtype)\n\u001b[1;32m   3169\u001b[0m     device_map \u001b[38;5;241m=\u001b[39m hf_quantizer\u001b[38;5;241m.\u001b[39mupdate_device_map(device_map)\n",
      "File \u001b[0;32m~/anaconda3/envs/langchain_flash_attn/lib/python3.11/site-packages/transformers/quantizers/quantizer_bnb_4bit.py:62\u001b[0m, in \u001b[0;36mBnb4BitHfQuantizer.validate_environment\u001b[0;34m(self, *args, **kwargs)\u001b[0m\n\u001b[1;32m     60\u001b[0m \u001b[38;5;28;01mdef\u001b[39;00m \u001b[38;5;21mvalidate_environment\u001b[39m(\u001b[38;5;28mself\u001b[39m, \u001b[38;5;241m*\u001b[39margs, \u001b[38;5;241m*\u001b[39m\u001b[38;5;241m*\u001b[39mkwargs):\n\u001b[1;32m     61\u001b[0m     \u001b[38;5;28;01mif\u001b[39;00m \u001b[38;5;129;01mnot\u001b[39;00m (is_accelerate_available() \u001b[38;5;129;01mand\u001b[39;00m is_bitsandbytes_available()):\n\u001b[0;32m---> 62\u001b[0m         \u001b[38;5;28;01mraise\u001b[39;00m \u001b[38;5;167;01mImportError\u001b[39;00m(\n\u001b[1;32m     63\u001b[0m             \u001b[38;5;124m\"\u001b[39m\u001b[38;5;124mUsing `bitsandbytes` 8-bit quantization requires Accelerate: `pip install accelerate` \u001b[39m\u001b[38;5;124m\"\u001b[39m\n\u001b[1;32m     64\u001b[0m             \u001b[38;5;124m\"\u001b[39m\u001b[38;5;124mand the latest version of bitsandbytes: `pip install -i https://pypi.org/simple/ bitsandbytes`\u001b[39m\u001b[38;5;124m\"\u001b[39m\n\u001b[1;32m     65\u001b[0m         )\n\u001b[1;32m     67\u001b[0m     \u001b[38;5;28;01mif\u001b[39;00m kwargs\u001b[38;5;241m.\u001b[39mget(\u001b[38;5;124m\"\u001b[39m\u001b[38;5;124mfrom_tf\u001b[39m\u001b[38;5;124m\"\u001b[39m, \u001b[38;5;28;01mFalse\u001b[39;00m) \u001b[38;5;129;01mor\u001b[39;00m kwargs\u001b[38;5;241m.\u001b[39mget(\u001b[38;5;124m\"\u001b[39m\u001b[38;5;124mfrom_flax\u001b[39m\u001b[38;5;124m\"\u001b[39m, \u001b[38;5;28;01mFalse\u001b[39;00m):\n\u001b[1;32m     68\u001b[0m         \u001b[38;5;28;01mraise\u001b[39;00m \u001b[38;5;167;01mValueError\u001b[39;00m(\n\u001b[1;32m     69\u001b[0m             \u001b[38;5;124m\"\u001b[39m\u001b[38;5;124mConverting into 4-bit or 8-bit weights from tf/flax weights is currently not supported, please make\u001b[39m\u001b[38;5;124m\"\u001b[39m\n\u001b[1;32m     70\u001b[0m             \u001b[38;5;124m\"\u001b[39m\u001b[38;5;124m sure the weights are in PyTorch format.\u001b[39m\u001b[38;5;124m\"\u001b[39m\n\u001b[1;32m     71\u001b[0m         )\n",
      "\u001b[0;31mImportError\u001b[0m: Using `bitsandbytes` 8-bit quantization requires Accelerate: `pip install accelerate` and the latest version of bitsandbytes: `pip install -i https://pypi.org/simple/ bitsandbytes`"
     ]
    }
   ],
   "source": [
    "model_name=\"/home/xylv/.cache/modelscope/hub/LLM-Research/Meta-Llama-3-8B\"\n",
    "model = AutoModelForCausalLM.from_pretrained(model_name, quantization_config=bnb_config, device_map={\"\": 0}, attn_implementation=attn_implementation\n",
    ")"
   ]
  },
  {
   "cell_type": "code",
   "execution_count": 16,
   "metadata": {},
   "outputs": [
    {
     "name": "stderr",
     "output_type": "stream",
     "text": [
      "Special tokens have been added in the vocabulary, make sure the associated word embeddings are fine-tuned or trained.\n",
      "Loading checkpoint shards: 100%|██████████| 4/4 [00:05<00:00,  1.32s/it]\n"
     ]
    }
   ],
   "source": [
    "from transformers import AutoModelForCausalLM, AutoTokenizer\n",
    "from peft import PeftModel, PeftConfig\n",
    "import torch\n",
    "\n",
    "# 加载模型和分词器\n",
    "model_name = \"/home/xylv/.cache/modelscope/hub/LLM-Research/Meta-Llama-3-8B\"\n",
    "tokenizer = AutoTokenizer.from_pretrained(model_name)\n",
    "model = AutoModelForCausalLM.from_pretrained(model_name)\n"
   ]
  },
  {
   "cell_type": "code",
   "execution_count": 1,
   "metadata": {},
   "outputs": [
    {
     "name": "stderr",
     "output_type": "stream",
     "text": [
      "/home/xylv/anaconda3/envs/langchain_flash_attn/lib/python3.11/site-packages/tqdm/auto.py:21: TqdmWarning: IProgress not found. Please update jupyter and ipywidgets. See https://ipywidgets.readthedocs.io/en/stable/user_install.html\n",
      "  from .autonotebook import tqdm as notebook_tqdm\n",
      "Loading checkpoint shards: 100%|██████████| 4/4 [00:06<00:00,  1.56s/it]\n",
      "Special tokens have been added in the vocabulary, make sure the associated word embeddings are fine-tuned or trained.\n",
      "Setting `pad_token_id` to `eos_token_id`:128001 for open-end generation.\n"
     ]
    },
    {
     "data": {
      "text/plain": [
       "[{'generated_text': 'Hey how are you doing today? I hope you are doing well. I am looking for a good quality product and I am sure you can help me. I am looking for a product that can help me with my problem. I am looking for a product that can help me with my problem. I am looking for a product that can help me with my problem. I am looking for a product that can help me with my problem. I am looking for a product that can help me with my problem. I am looking for a product that can help me with my problem. I am looking for a product that can help me with my problem. I am looking for a product that can help me with my problem. I am looking for a product that can help me with my problem. I am looking for a product that can help me with my problem. I am looking for a product that can help me with my problem. I am looking for a product that can help me with my problem. I am looking for a product that can help me with my problem. I am looking for a product that can help me with my problem. I am looking for a product that can help me with my problem. I am looking for a product that can help me with my problem. I am looking for a product that can help me with my problem. I am looking for a product that can help me with my problem. I am looking for a product that can help me with my problem. I am looking for a product that can help me with my problem. I am looking for a product that can help me with my problem. I am looking for a product that can help me with my problem. I am looking for a product that can help me with my problem. I am looking for a product that can help me with my problem. I am looking for a product that can help me with my problem. I am looking for a product that can help me with my problem. I am looking for a product that can help me with my problem. I am looking for a product that can help me with my problem. I am looking for a product that can help me with my problem. I am looking for a product that can help me with my problem. I am looking for a product that can help me with my problem. I am looking for a product that can help me with my problem. I am looking for a product that can help me with my problem. I am looking for a product that can help me with my problem. I am looking for a product that can help me with my problem. I am looking for a product that can help me with my problem. I am looking for a product that can help me with my problem. I am looking for a product that can help me with my problem. I am looking for a product that can help me with my problem. I am looking for a product that can help me with my problem. I am looking for a product that can help me with my problem. I am looking for a product that can help me with my problem. I am looking for a product that can help me with my problem. I am looking for a product that can help me with my problem. I am looking for a product that can help me with my problem. I am looking for a product that can help me with my problem. I am looking for a product that can help me with my problem. I am looking for a product that can help me with my problem. I am looking for a product that can help me with my problem. I am looking for a product that can help me with my problem. I am looking for a product that can help me with my problem. I am looking for a product that can help me with my problem. I am looking for a product that can help me with my problem. I am looking for a product that can help me with my problem. I am looking for a product that can help me with my problem. I am looking for a product that can help me with my problem. I am looking for a product that can help me with my problem. I am looking for a product that can help me with my problem. I am looking for a product that can help me with my problem. I am looking for a product that can help me with my problem. I am looking for a product that can help me with my problem. I am looking for a product that can help me with my problem. I am looking for a product that can help me with my problem. I am looking for a product that can help me with my problem. I am looking for a product that can help me with my problem. I am looking for a product that can help me with my problem. I am looking for a product that can help me with my problem. I am looking for a product that can help me with my problem. I am looking for a product that can help me with my problem. I am looking for a product that can help me with my problem. I am looking for a product that can help me with my problem. I am looking for a product that can help me with my problem. I am looking for a product that can help me with my problem. I am looking for a product that can help me with my problem. I am looking for a product that can help me with my problem. I am looking for a product that can help me with my problem. I am looking for a product that can help me with my problem. I am looking for a product that can help me with my problem. I am looking for a product that can help me with my problem. I am looking for a product that can help me with my problem. I am looking for a product that can help me with my problem. I am looking for a product that can help me with my problem. I am looking for a product that can help me with my problem. I am looking for a product that can help me with my problem. I am looking for a product that can help me with my problem. I am looking for a product that can help me with my problem. I am looking for a product that can help me with my problem. I am looking for a product that can help me with my problem. I am looking for a product that can help me with my problem. I am looking for a product that can help me with my problem. I am looking for a product that can help me with my problem. I am looking for a product that can help me with my problem. I am looking for a product that can help me with my problem. I am looking for a product that can help me with my problem. I am looking for a product that can help me with my problem. I am looking for a product that can help me with my problem. I am looking for a product that can help me with my problem. I am looking for a product that can help me with my problem. I am looking for a product that can help me with my problem. I am looking for a product that can help me with my problem. I am looking for a product that can help me with my problem. I am looking for a product that can help me with my problem. I am looking for a product that can help me with my problem. I am looking for a product that can help me with my problem. I am looking for a product that can help me with my problem. I am looking for a product that can help me with my problem. I am looking for a product that can help me with my problem. I am looking for a product that can help me with my problem. I am looking for a product that can help me with my problem. I am looking for a product that can help me with my problem. I am looking for a product that can help me with my problem. I am looking for a product that can help me with my problem. I am looking for a product that can help me with my problem. I am looking for a product that can help me with my problem. I am looking for a product that can help me with my problem. I am looking for a product that can help me with my problem. I am looking for a product that can help me with my problem. I am looking for a product that can help me with my problem. I am looking for a product that can help me with my problem. I am looking for a product that can help me with my problem. I am looking for a product that can help me with my problem. I am looking for a product that can help me with my problem. I am looking for a product that can help me with my problem. I am looking for a product that can help me with my problem. I am looking for a product that can help me with my problem. I am looking for a product that can help me with my problem. I am looking for a product that can help me with my problem. I am looking for a product that can help me with my problem. I am looking for a product that can help me with my problem. I am looking for a product that can help me with my problem. I am looking for a product that can help me with my problem. I am looking for a product that can help me with my problem. I am looking for a product that can help me with my problem. I am looking for a product that can help me with my problem. I am looking for a product that can help me with my problem. I am looking for a product that can help me with my problem. I am looking for a product that can help me with my problem. I am looking for a product that can help me with my problem. I am looking for a product that can help me with my problem. I am looking for a product that can help me with my problem. I am looking for a product that can help me with my problem. I am looking for a product that can help me with my problem. I am looking for a product that can help me with my problem. I am looking for a product that can help me with my problem. I am looking for a product that can help me with my problem. I am looking for a product that can help me with my problem. I am looking for a product that can help me with my problem. I am looking for a product that can help me with my problem. I am looking for a product that can help me with my problem. I am looking for a product that can help me with my problem. I am looking for a product that can help me with my problem. I am looking for a product that can help me with my problem. I am looking for a product that can help me with my problem. I am looking for a product that can help me with my problem. I am looking for a product that can help me with my problem. I am looking for a product that can help me with my problem. I am looking for a product that can help me with my problem. I am looking for a product that can help me with my problem. I am looking for a product that can help me with my problem. I am looking for a product that can help me with my problem. I am looking for a product that can help me with my problem. I am looking for a product that can help me with my problem. I am looking for a product that can help me with my problem. I am looking for a product that can help me with my problem. I am looking for a product that can help me with my problem. I am looking for a product that can help me with my problem. I am looking for a product that can help me with my problem. I am looking for a product that can help me with my problem. I am looking for a product that can help me with my problem. I am looking for a product that can help me with my problem. I am looking for a product that can help me with my problem. I am looking for a product that can help me with my problem. I am looking for a product that can help me with my problem. I am looking for a product that can help me with my problem. I am looking for a product that can help me with my problem. I am looking for a product that can help me with my problem. I am looking for a product that can help me with my problem. I am looking for a product that can help me with my problem. I am looking for a product that can help me with my problem. I am looking for a product that can help me with my problem. I am looking for a product that can help me with my problem. I am looking for a product that can help me with my problem. I am looking for a product that can help me with my problem. I am looking for a product that can help me with my problem. I am looking for a product that can help me with my problem. I am looking for a product that can help me with my problem. I am looking for a product that can help me with my problem. I am looking for a product that can help me with my problem. I am looking for a product that can help me with my problem. I am looking for a product that can help me with my problem. I am looking for a product that can help me with my problem. I am looking for a product that can help me with my problem. I am looking for a product that can help me with my problem. I am looking for a product that can help me with my problem. I am looking for a product that can help me with my problem. I am looking for a product that can help me with my problem. I am looking for a product that can help me with my problem. I am looking for a product that can help me with my problem. I am looking for a product that can help me with my problem. I am looking for a product that can help me with my problem. I am looking for a product that can help me with my problem. I am looking for a product that can help me with my problem. I am looking for a product that can help me with my problem. I am looking for a product that can help me with my problem. I am looking for a product that can help me with my problem. I am looking for a product that can help me with my problem. I am looking for a product that can help me with my problem. I am looking for a product that can help me with my problem. I am looking for a product that can help me with my problem. I am looking for a product that can help me with my problem. I am looking for a product that can help me with my problem. I am looking for a product that can help me with my problem. I am looking for a product that can help me with my problem. I am looking for a product that can help me with my problem. I am looking for a product that can help me with my problem. I am looking for a product that can help me with my problem. I am looking for a product that can help me with my problem. I am looking for a product that can help me with my problem. I am looking for a product that can help me with my problem. I am looking for a product that can help me with my problem. I am looking for a product that can help me with my problem. I am looking for a product that can help me with my problem. I am looking for a product that can help me with my problem. I am looking for a product that can help me with my problem. I am looking for a product that can help me with my problem. I am looking for a product that can help me with my problem. I am looking for a product that can help me with my problem. I am looking for a product that can help me with my problem. I am looking for a product that can help me with my problem. I am looking for a product that can help me with my problem. I am looking for a product that can help me with my problem. I am looking for a product that can help me with my problem. I am looking for a product that can help me with my problem. I am looking for a product that can help me with my problem. I am looking for a product that can help me with my problem. I am looking for a product that can help me with my problem. I am looking for a product that can help me with my problem. I am looking for a product that can help me with my problem. I am looking for a product that can help me with my problem. I am looking for a product that can help me with my problem. I am looking for a product that can help me with my problem. I am looking for a product that can help me with my problem. I am looking for a product that can help me with my problem. I am looking for a product that can help me with my problem. I am looking for a product that can help me with my problem. I am looking for a product that can help me with my problem. I am looking for a product that can help me with my problem. I am looking for a product that can help me with my problem. I am looking for a product that can help me with my problem. I am looking for a product that can help me with my problem. I am looking for a product that can help me with my problem. I am looking for a product that can help me with my problem. I am looking for a product that can help me with my problem. I am looking for a product that can help me with my problem. I am looking for a product that can help me with my problem. I am looking for a product that can help me with my problem. I am looking for a product that can help me with my problem. I am looking for a product that can help me with my problem. I am looking for a product that can help me with my problem. I am looking for a product that can help me with my problem. I am looking for a product that can help me with my problem. I am looking for a product that can help me with my problem. I am looking for a product that can help me with my problem. I am looking for a product that can help me with my problem. I am looking for a product that can help me with my problem. I am looking for a product that can help me with my problem. I am looking for a product that can help me with my problem. I am looking for a product that can help me with my problem. I am looking for a product that can help me with my problem. I am looking for a product that can help me with my problem. I am looking for a product that can help me with my problem. I am looking for a product that can help me with my problem. I am looking for a product that can help me with my problem. I am looking for a product that can help me with my problem. I am looking for a product that can help me with my problem. I am looking for a product that can help me with my problem. I am looking for a product that can help me with my problem. I am looking for a product that can help me with my problem. I am looking for a product that can help me with my problem. I am looking for a product that can help me with my problem. I am looking for a product that can help me with my problem. I am looking for a product that can help me with my problem. I am looking for a product that can help me with my problem. I am looking for a product that can help me with my problem. I am looking for a product that can help me with my problem. I am looking for a product that can help me with my problem. I am looking for a product that can help me with my problem. I am looking for a product that can help me with my problem. I am looking for a product that can help me with my problem. I am looking for a product that can help me with my problem. I am looking for a'}]"
      ]
     },
     "execution_count": 1,
     "metadata": {},
     "output_type": "execute_result"
    }
   ],
   "source": [
    "import transformers\n",
    "\n",
    "import torch\n",
    "\n",
    "model_id = \"/home/xylv/.cache/modelscope/hub/LLM-Research/Meta-Llama-3-8B\"\n",
    "\n",
    "pipeline = transformers.pipeline(\n",
    "    \"text-generation\", model=model_id, model_kwargs={\"torch_dtype\": torch.bfloat16}, device_map=\"auto\"\n",
    ")\n",
    "pipeline(\"Hey how are you doing today?\")"
   ]
  }
 ],
 "metadata": {
  "kernelspec": {
   "display_name": "langchain_flash_attn",
   "language": "python",
   "name": "python3"
  },
  "language_info": {
   "codemirror_mode": {
    "name": "ipython",
    "version": 3
   },
   "file_extension": ".py",
   "mimetype": "text/x-python",
   "name": "python",
   "nbconvert_exporter": "python",
   "pygments_lexer": "ipython3",
   "version": "3.1.undefined"
  }
 },
 "nbformat": 4,
 "nbformat_minor": 2
}
